{
  "nbformat": 4,
  "nbformat_minor": 0,
  "metadata": {
    "colab": {
      "provenance": [],
      "authorship_tag": "ABX9TyPh7rRi+MZBUcAxsHdJE5f3",
      "include_colab_link": true
    },
    "kernelspec": {
      "name": "python3",
      "display_name": "Python 3"
    },
    "language_info": {
      "name": "python"
    }
  },
  "cells": [
    {
      "cell_type": "markdown",
      "metadata": {
        "id": "view-in-github",
        "colab_type": "text"
      },
      "source": [
        "<a href=\"https://colab.research.google.com/github/jkranyak/AI_simple_agent/blob/main/AI_Careers.ipynb\" target=\"_parent\"><img src=\"https://colab.research.google.com/assets/colab-badge.svg\" alt=\"Open In Colab\"/></a>"
      ]
    },
    {
      "cell_type": "code",
      "execution_count": 1,
      "metadata": {
        "colab": {
          "base_uri": "https://localhost:8080/"
        },
        "id": "PWmyumZXvD_e",
        "outputId": "c06e8d4b-778b-4877-fe88-96da48a028e7"
      },
      "outputs": [
        {
          "output_type": "stream",
          "name": "stdout",
          "text": [
            "\u001b[2K     \u001b[90m━━━━━━━━━━━━━━━━━━━━━━━━━━━━━━━━━━━━━━━━\u001b[0m \u001b[32m61.6/61.6 kB\u001b[0m \u001b[31m922.7 kB/s\u001b[0m eta \u001b[36m0:00:00\u001b[0m\n",
            "\u001b[2K     \u001b[90m━━━━━━━━━━━━━━━━━━━━━━━━━━━━━━━━━━━━━━━━\u001b[0m \u001b[32m192.7/192.7 kB\u001b[0m \u001b[31m6.9 MB/s\u001b[0m eta \u001b[36m0:00:00\u001b[0m\n",
            "\u001b[2K     \u001b[90m━━━━━━━━━━━━━━━━━━━━━━━━━━━━━━━━━━━━━━━━\u001b[0m \u001b[32m817.7/817.7 kB\u001b[0m \u001b[31m9.4 MB/s\u001b[0m eta \u001b[36m0:00:00\u001b[0m\n",
            "\u001b[2K     \u001b[90m━━━━━━━━━━━━━━━━━━━━━━━━━━━━━━━━━━━━━━━━\u001b[0m \u001b[32m311.6/311.6 kB\u001b[0m \u001b[31m9.0 MB/s\u001b[0m eta \u001b[36m0:00:00\u001b[0m\n",
            "\u001b[2K     \u001b[90m━━━━━━━━━━━━━━━━━━━━━━━━━━━━━━━━━━━━━━━━\u001b[0m \u001b[32m60.1/60.1 kB\u001b[0m \u001b[31m1.7 MB/s\u001b[0m eta \u001b[36m0:00:00\u001b[0m\n",
            "\u001b[2K     \u001b[90m━━━━━━━━━━━━━━━━━━━━━━━━━━━━━━━━━━━━━━━━\u001b[0m \u001b[32m106.1/106.1 kB\u001b[0m \u001b[31m4.9 MB/s\u001b[0m eta \u001b[36m0:00:00\u001b[0m\n",
            "\u001b[2K     \u001b[90m━━━━━━━━━━━━━━━━━━━━━━━━━━━━━━━━━━━━━━━━\u001b[0m \u001b[32m233.4/233.4 kB\u001b[0m \u001b[31m11.7 MB/s\u001b[0m eta \u001b[36m0:00:00\u001b[0m\n",
            "\u001b[2K     \u001b[90m━━━━━━━━━━━━━━━━━━━━━━━━━━━━━━━━━━━━━━━━\u001b[0m \u001b[32m525.5/525.5 kB\u001b[0m \u001b[31m13.7 MB/s\u001b[0m eta \u001b[36m0:00:00\u001b[0m\n",
            "\u001b[2K     \u001b[90m━━━━━━━━━━━━━━━━━━━━━━━━━━━━━━━━━━━━━━━━\u001b[0m \u001b[32m131.5/131.5 kB\u001b[0m \u001b[31m8.9 MB/s\u001b[0m eta \u001b[36m0:00:00\u001b[0m\n",
            "\u001b[2K     \u001b[90m━━━━━━━━━━━━━━━━━━━━━━━━━━━━━━━━━━━━━━━━\u001b[0m \u001b[32m41.3/41.3 kB\u001b[0m \u001b[31m2.0 MB/s\u001b[0m eta \u001b[36m0:00:00\u001b[0m\n",
            "\u001b[2K     \u001b[90m━━━━━━━━━━━━━━━━━━━━━━━━━━━━━━━━━━━━━━━━\u001b[0m \u001b[32m278.2/278.2 kB\u001b[0m \u001b[31m12.0 MB/s\u001b[0m eta \u001b[36m0:00:00\u001b[0m\n",
            "\u001b[2K     \u001b[90m━━━━━━━━━━━━━━━━━━━━━━━━━━━━━━━━━━━━━━━━\u001b[0m \u001b[32m71.1/71.1 kB\u001b[0m \u001b[31m5.6 MB/s\u001b[0m eta \u001b[36m0:00:00\u001b[0m\n",
            "\u001b[2K     \u001b[90m━━━━━━━━━━━━━━━━━━━━━━━━━━━━━━━━━━━━━━━━\u001b[0m \u001b[32m2.0/2.0 MB\u001b[0m \u001b[31m43.8 MB/s\u001b[0m eta \u001b[36m0:00:00\u001b[0m\n",
            "\u001b[2K     \u001b[90m━━━━━━━━━━━━━━━━━━━━━━━━━━━━━━━━━━━━━━━━\u001b[0m \u001b[32m1.9/1.9 MB\u001b[0m \u001b[31m31.6 MB/s\u001b[0m eta \u001b[36m0:00:00\u001b[0m\n",
            "\u001b[2K     \u001b[90m━━━━━━━━━━━━━━━━━━━━━━━━━━━━━━━━━━━━━━━━\u001b[0m \u001b[32m299.3/299.3 kB\u001b[0m \u001b[31m14.6 MB/s\u001b[0m eta \u001b[36m0:00:00\u001b[0m\n",
            "\u001b[2K     \u001b[90m━━━━━━━━━━━━━━━━━━━━━━━━━━━━━━━━━━━━━━━━\u001b[0m \u001b[32m116.0/116.0 kB\u001b[0m \u001b[31m8.6 MB/s\u001b[0m eta \u001b[36m0:00:00\u001b[0m\n",
            "\u001b[2K     \u001b[90m━━━━━━━━━━━━━━━━━━━━━━━━━━━━━━━━━━━━━━━━\u001b[0m \u001b[32m75.6/75.6 kB\u001b[0m \u001b[31m5.2 MB/s\u001b[0m eta \u001b[36m0:00:00\u001b[0m\n",
            "\u001b[2K     \u001b[90m━━━━━━━━━━━━━━━━━━━━━━━━━━━━━━━━━━━━━━━━\u001b[0m \u001b[32m50.8/50.8 kB\u001b[0m \u001b[31m4.0 MB/s\u001b[0m eta \u001b[36m0:00:00\u001b[0m\n",
            "\u001b[2K     \u001b[90m━━━━━━━━━━━━━━━━━━━━━━━━━━━━━━━━━━━━━━━━\u001b[0m \u001b[32m78.8/78.8 kB\u001b[0m \u001b[31m6.2 MB/s\u001b[0m eta \u001b[36m0:00:00\u001b[0m\n",
            "\u001b[2K     \u001b[90m━━━━━━━━━━━━━━━━━━━━━━━━━━━━━━━━━━━━━━━━\u001b[0m \u001b[32m2.4/2.4 MB\u001b[0m \u001b[31m22.7 MB/s\u001b[0m eta \u001b[36m0:00:00\u001b[0m\n",
            "\u001b[2K     \u001b[90m━━━━━━━━━━━━━━━━━━━━━━━━━━━━━━━━━━━━━━━━\u001b[0m \u001b[32m91.9/91.9 kB\u001b[0m \u001b[31m4.5 MB/s\u001b[0m eta \u001b[36m0:00:00\u001b[0m\n",
            "\u001b[2K     \u001b[90m━━━━━━━━━━━━━━━━━━━━━━━━━━━━━━━━━━━━━━━━\u001b[0m \u001b[32m60.8/60.8 kB\u001b[0m \u001b[31m3.8 MB/s\u001b[0m eta \u001b[36m0:00:00\u001b[0m\n",
            "\u001b[2K     \u001b[90m━━━━━━━━━━━━━━━━━━━━━━━━━━━━━━━━━━━━━━━━\u001b[0m \u001b[32m5.4/5.4 MB\u001b[0m \u001b[31m24.7 MB/s\u001b[0m eta \u001b[36m0:00:00\u001b[0m\n",
            "\u001b[2K     \u001b[90m━━━━━━━━━━━━━━━━━━━━━━━━━━━━━━━━━━━━━━━━\u001b[0m \u001b[32m6.8/6.8 MB\u001b[0m \u001b[31m55.3 MB/s\u001b[0m eta \u001b[36m0:00:00\u001b[0m\n",
            "\u001b[2K     \u001b[90m━━━━━━━━━━━━━━━━━━━━━━━━━━━━━━━━━━━━━━━━\u001b[0m \u001b[32m67.3/67.3 kB\u001b[0m \u001b[31m6.0 MB/s\u001b[0m eta \u001b[36m0:00:00\u001b[0m\n",
            "\u001b[?25h  Installing build dependencies ... \u001b[?25l\u001b[?25hdone\n",
            "  Getting requirements to build wheel ... \u001b[?25l\u001b[?25hdone\n",
            "  Preparing metadata (pyproject.toml) ... \u001b[?25l\u001b[?25hdone\n",
            "\u001b[2K     \u001b[90m━━━━━━━━━━━━━━━━━━━━━━━━━━━━━━━━━━━━━━━━\u001b[0m \u001b[32m698.9/698.9 kB\u001b[0m \u001b[31m44.1 MB/s\u001b[0m eta \u001b[36m0:00:00\u001b[0m\n",
            "\u001b[2K     \u001b[90m━━━━━━━━━━━━━━━━━━━━━━━━━━━━━━━━━━━━━━━━\u001b[0m \u001b[32m1.6/1.6 MB\u001b[0m \u001b[31m64.1 MB/s\u001b[0m eta \u001b[36m0:00:00\u001b[0m\n",
            "\u001b[2K     \u001b[90m━━━━━━━━━━━━━━━━━━━━━━━━━━━━━━━━━━━━━━━━\u001b[0m \u001b[32m67.6/67.6 kB\u001b[0m \u001b[31m7.6 MB/s\u001b[0m eta \u001b[36m0:00:00\u001b[0m\n",
            "\u001b[2K     \u001b[90m━━━━━━━━━━━━━━━━━━━━━━━━━━━━━━━━━━━━━━━━\u001b[0m \u001b[32m141.1/141.1 kB\u001b[0m \u001b[31m15.8 MB/s\u001b[0m eta \u001b[36m0:00:00\u001b[0m\n",
            "\u001b[2K     \u001b[90m━━━━━━━━━━━━━━━━━━━━━━━━━━━━━━━━━━━━━━━━\u001b[0m \u001b[32m49.4/49.4 kB\u001b[0m \u001b[31m5.2 MB/s\u001b[0m eta \u001b[36m0:00:00\u001b[0m\n",
            "\u001b[2K     \u001b[90m━━━━━━━━━━━━━━━━━━━━━━━━━━━━━━━━━━━━━━━━\u001b[0m \u001b[32m77.9/77.9 kB\u001b[0m \u001b[31m7.9 MB/s\u001b[0m eta \u001b[36m0:00:00\u001b[0m\n",
            "\u001b[2K     \u001b[90m━━━━━━━━━━━━━━━━━━━━━━━━━━━━━━━━━━━━━━━━\u001b[0m \u001b[32m58.3/58.3 kB\u001b[0m \u001b[31m4.7 MB/s\u001b[0m eta \u001b[36m0:00:00\u001b[0m\n",
            "\u001b[2K     \u001b[90m━━━━━━━━━━━━━━━━━━━━━━━━━━━━━━━━━━━━━━━━\u001b[0m \u001b[32m53.0/53.0 kB\u001b[0m \u001b[31m5.8 MB/s\u001b[0m eta \u001b[36m0:00:00\u001b[0m\n",
            "\u001b[2K     \u001b[90m━━━━━━━━━━━━━━━━━━━━━━━━━━━━━━━━━━━━━━━━\u001b[0m \u001b[32m71.9/71.9 kB\u001b[0m \u001b[31m7.0 MB/s\u001b[0m eta \u001b[36m0:00:00\u001b[0m\n",
            "\u001b[2K     \u001b[90m━━━━━━━━━━━━━━━━━━━━━━━━━━━━━━━━━━━━━━━━\u001b[0m \u001b[32m46.0/46.0 kB\u001b[0m \u001b[31m5.1 MB/s\u001b[0m eta \u001b[36m0:00:00\u001b[0m\n",
            "\u001b[2K     \u001b[90m━━━━━━━━━━━━━━━━━━━━━━━━━━━━━━━━━━━━━━━━\u001b[0m \u001b[32m341.4/341.4 kB\u001b[0m \u001b[31m32.3 MB/s\u001b[0m eta \u001b[36m0:00:00\u001b[0m\n",
            "\u001b[2K     \u001b[90m━━━━━━━━━━━━━━━━━━━━━━━━━━━━━━━━━━━━━━━━\u001b[0m \u001b[32m3.4/3.4 MB\u001b[0m \u001b[31m24.3 MB/s\u001b[0m eta \u001b[36m0:00:00\u001b[0m\n",
            "\u001b[2K     \u001b[90m━━━━━━━━━━━━━━━━━━━━━━━━━━━━━━━━━━━━━━━━\u001b[0m \u001b[32m1.3/1.3 MB\u001b[0m \u001b[31m69.2 MB/s\u001b[0m eta \u001b[36m0:00:00\u001b[0m\n",
            "\u001b[2K     \u001b[90m━━━━━━━━━━━━━━━━━━━━━━━━━━━━━━━━━━━━━━━━\u001b[0m \u001b[32m130.2/130.2 kB\u001b[0m \u001b[31m14.4 MB/s\u001b[0m eta \u001b[36m0:00:00\u001b[0m\n",
            "\u001b[2K     \u001b[90m━━━━━━━━━━━━━━━━━━━━━━━━━━━━━━━━━━━━━━━━\u001b[0m \u001b[32m86.8/86.8 kB\u001b[0m \u001b[31m8.8 MB/s\u001b[0m eta \u001b[36m0:00:00\u001b[0m\n",
            "\u001b[?25h  Building wheel for pypika (pyproject.toml) ... \u001b[?25l\u001b[?25hdone\n"
          ]
        }
      ],
      "source": [
        "!pip install -q crewai"
      ]
    },
    {
      "cell_type": "code",
      "source": [
        "!pip install -q crewai[tools]"
      ],
      "metadata": {
        "colab": {
          "base_uri": "https://localhost:8080/"
        },
        "id": "Eb3FdqDqvLUP",
        "outputId": "31da446c-a3d2-418a-fb14-abacc4d0471c"
      },
      "execution_count": 2,
      "outputs": [
        {
          "output_type": "stream",
          "name": "stdout",
          "text": [
            "\u001b[2K     \u001b[90m━━━━━━━━━━━━━━━━━━━━━━━━━━━━━━━━━━━━━━━━\u001b[0m \u001b[32m48.0/48.0 kB\u001b[0m \u001b[31m1.5 MB/s\u001b[0m eta \u001b[36m0:00:00\u001b[0m\n",
            "\u001b[2K     \u001b[90m━━━━━━━━━━━━━━━━━━━━━━━━━━━━━━━━━━━━━━━━\u001b[0m \u001b[32m115.1/115.1 kB\u001b[0m \u001b[31m5.5 MB/s\u001b[0m eta \u001b[36m0:00:00\u001b[0m\n",
            "\u001b[2K     \u001b[90m━━━━━━━━━━━━━━━━━━━━━━━━━━━━━━━━━━━━━━━━\u001b[0m \u001b[32m339.2/339.2 kB\u001b[0m \u001b[31m16.8 MB/s\u001b[0m eta \u001b[36m0:00:00\u001b[0m\n",
            "\u001b[2K     \u001b[90m━━━━━━━━━━━━━━━━━━━━━━━━━━━━━━━━━━━━━━━━\u001b[0m \u001b[32m57.6/57.6 kB\u001b[0m \u001b[31m6.2 MB/s\u001b[0m eta \u001b[36m0:00:00\u001b[0m\n",
            "\u001b[2K     \u001b[90m━━━━━━━━━━━━━━━━━━━━━━━━━━━━━━━━━━━━━━━━\u001b[0m \u001b[32m9.5/9.5 MB\u001b[0m \u001b[31m41.0 MB/s\u001b[0m eta \u001b[36m0:00:00\u001b[0m\n",
            "\u001b[2K     \u001b[90m━━━━━━━━━━━━━━━━━━━━━━━━━━━━━━━━━━━━━━━━\u001b[0m \u001b[32m3.0/3.0 MB\u001b[0m \u001b[31m42.9 MB/s\u001b[0m eta \u001b[36m0:00:00\u001b[0m\n",
            "\u001b[2K     \u001b[90m━━━━━━━━━━━━━━━━━━━━━━━━━━━━━━━━━━━━━━━━\u001b[0m \u001b[32m342.2/342.2 kB\u001b[0m \u001b[31m30.1 MB/s\u001b[0m eta \u001b[36m0:00:00\u001b[0m\n",
            "\u001b[2K     \u001b[90m━━━━━━━━━━━━━━━━━━━━━━━━━━━━━━━━━━━━━━━━\u001b[0m \u001b[32m207.3/207.3 kB\u001b[0m \u001b[31m21.0 MB/s\u001b[0m eta \u001b[36m0:00:00\u001b[0m\n",
            "\u001b[2K     \u001b[90m━━━━━━━━━━━━━━━━━━━━━━━━━━━━━━━━━━━━━━━━\u001b[0m \u001b[32m21.6/21.6 MB\u001b[0m \u001b[31m57.6 MB/s\u001b[0m eta \u001b[36m0:00:00\u001b[0m\n",
            "\u001b[2K     \u001b[90m━━━━━━━━━━━━━━━━━━━━━━━━━━━━━━━━━━━━━━━━\u001b[0m \u001b[32m467.2/467.2 kB\u001b[0m \u001b[31m34.2 MB/s\u001b[0m eta \u001b[36m0:00:00\u001b[0m\n",
            "\u001b[2K     \u001b[90m━━━━━━━━━━━━━━━━━━━━━━━━━━━━━━━━━━━━━━━━\u001b[0m \u001b[32m62.7/62.7 kB\u001b[0m \u001b[31m4.0 MB/s\u001b[0m eta \u001b[36m0:00:00\u001b[0m\n",
            "\u001b[2K     \u001b[90m━━━━━━━━━━━━━━━━━━━━━━━━━━━━━━━━━━━━━━━━\u001b[0m \u001b[32m856.7/856.7 kB\u001b[0m \u001b[31m29.7 MB/s\u001b[0m eta \u001b[36m0:00:00\u001b[0m\n",
            "\u001b[2K     \u001b[90m━━━━━━━━━━━━━━━━━━━━━━━━━━━━━━━━━━━━━━━━\u001b[0m \u001b[32m98.7/98.7 kB\u001b[0m \u001b[31m9.0 MB/s\u001b[0m eta \u001b[36m0:00:00\u001b[0m\n",
            "\u001b[2K     \u001b[90m━━━━━━━━━━━━━━━━━━━━━━━━━━━━━━━━━━━━━━━━\u001b[0m \u001b[32m194.4/194.4 kB\u001b[0m \u001b[31m14.5 MB/s\u001b[0m eta \u001b[36m0:00:00\u001b[0m\n",
            "\u001b[2K     \u001b[90m━━━━━━━━━━━━━━━━━━━━━━━━━━━━━━━━━━━━━━━━\u001b[0m \u001b[32m2.1/2.1 MB\u001b[0m \u001b[31m16.1 MB/s\u001b[0m eta \u001b[36m0:00:00\u001b[0m\n",
            "\u001b[2K     \u001b[90m━━━━━━━━━━━━━━━━━━━━━━━━━━━━━━━━━━━━━━━━\u001b[0m \u001b[32m3.0/3.0 MB\u001b[0m \u001b[31m23.6 MB/s\u001b[0m eta \u001b[36m0:00:00\u001b[0m\n",
            "\u001b[?25h"
          ]
        }
      ]
    },
    {
      "cell_type": "code",
      "source": [
        "!pip install python-dotenv\n"
      ],
      "metadata": {
        "colab": {
          "base_uri": "https://localhost:8080/"
        },
        "id": "o_7HMSiM4D3c",
        "outputId": "64b367eb-a68b-461b-b7cc-ba39b5b479c0"
      },
      "execution_count": 3,
      "outputs": [
        {
          "output_type": "stream",
          "name": "stdout",
          "text": [
            "Requirement already satisfied: python-dotenv in /usr/local/lib/python3.10/dist-packages (1.0.0)\n"
          ]
        }
      ]
    },
    {
      "cell_type": "code",
      "source": [
        "%load_ext dotenv\n",
        "%dotenv /content/crewai_api.env\n"
      ],
      "metadata": {
        "id": "-Hb4IMd2vgP9"
      },
      "execution_count": 4,
      "outputs": []
    },
    {
      "cell_type": "code",
      "source": [
        "import os\n",
        "from crewai import Agent, Task, Crew, Process\n",
        "from crewai_tools import SerperDevTool"
      ],
      "metadata": {
        "id": "A4zDNbgVyQrQ"
      },
      "execution_count": 5,
      "outputs": []
    },
    {
      "cell_type": "code",
      "source": [
        "search_tool = SerperDevTool()"
      ],
      "metadata": {
        "id": "clzQ1SGiydrQ"
      },
      "execution_count": 6,
      "outputs": []
    },
    {
      "cell_type": "code",
      "source": [
        "from langchain_openai import ChatOpenAI"
      ],
      "metadata": {
        "id": "cZIPyBpwyqP0"
      },
      "execution_count": 7,
      "outputs": []
    },
    {
      "cell_type": "code",
      "source": [
        "#Create Agent team\n",
        "researcher = Agent(\n",
        "    role = 'Senior Research Asssistant',\n",
        "    goal='Look up the latest advancements in the future of AI',\n",
        "    backstory = \"\"\"You work at a learning tech thiink tank.  Your expertise lies in searching Google for AI career opportunities.\n",
        "    You have a knack for dissecting complex data and presenting actionable insights\"\"\",\n",
        "    verbose = False,\n",
        "    allow_deletation = False,\n",
        "    tools = [search_tool],\n",
        "    llm=ChatOpenAI(model_name=\"gpt-4-turbo\", temperature=0.2)\n",
        "\n",
        ")"
      ],
      "metadata": {
        "id": "eq_TFiq7y0AC"
      },
      "execution_count": 8,
      "outputs": []
    },
    {
      "cell_type": "code",
      "source": [
        "writer = Agent(\n",
        "  role='Professinal Short-Article Writer',\n",
        "  goal='summarize the latest opportunities in AI careers in a concise article',\n",
        "  backstory=\"\"\"You are a renowned Career Strategist, known for your insightful and engaging articles.\n",
        "  You transform complex concepts and fields of employment into compelling narratives that dictate the future of careers.\"\"\",\n",
        "  verbose=True,\n",
        "  allow_delegation=True,\n",
        "  llm=ChatOpenAI(model_name=\"gpt-4-turbo\", temperature=0.7)\n",
        ")"
      ],
      "metadata": {
        "id": "EYsL3fU31LEP"
      },
      "execution_count": 9,
      "outputs": []
    },
    {
      "cell_type": "code",
      "source": [
        "# Create tasks for your agents\n",
        "task1 = Task(\n",
        "  description=\"\"\"Conduct a comprehensive analysis of the latest opportunities in AI as of March 2024.\n",
        "  Identify key trends, breakthrough technologies, and potential industry areas for entry into the AI career marketplace.\"\"\",\n",
        "  expected_output=\"Full analysis report in bullet points\",\n",
        "  agent=researcher\n",
        ")"
      ],
      "metadata": {
        "id": "FC7B9SJf5_lR"
      },
      "execution_count": 10,
      "outputs": []
    },
    {
      "cell_type": "code",
      "source": [
        "task2 = Task(\n",
        "  description=\"\"\"Using the insights provided, write a short article\n",
        "  that highlights the most significant AI career opportunities. rely heavily on the most recent\n",
        "  published articles from 2024 that you can find.\n",
        "  Your post should be informative yet accessible, catering to a tech-savvy audience.\n",
        "  Make it sound cool, avoid complex words so it doesn't sound like AI.\"\"\",\n",
        "  expected_output=\"Full blog post of at least 3 paragraphs\",\n",
        "  agent=writer\n",
        ")"
      ],
      "metadata": {
        "id": "TMuoPAcs6M_S"
      },
      "execution_count": 11,
      "outputs": []
    },
    {
      "cell_type": "code",
      "source": [
        "# Instantiate your crew with a sequential process\n",
        "crew = Crew(\n",
        "    agents = [researcher, writer],\n",
        "    tasks = [task1, task2],\n",
        "    verbose = 2, # You can set it to 1 or 2 to different logging levels\n",
        ")"
      ],
      "metadata": {
        "id": "ym_R_d686F0y"
      },
      "execution_count": 12,
      "outputs": []
    },
    {
      "cell_type": "code",
      "source": [
        "!pip instal"
      ],
      "metadata": {
        "id": "TNBhrdl3MMs3"
      },
      "execution_count": null,
      "outputs": []
    },
    {
      "cell_type": "code",
      "source": [
        "import smtplib\n",
        "from email.mime.multipart import MIMEMultipart\n",
        "from email.mime.text import MIMEText\n",
        "\n",
        "# Assuming 'crew.kickoff()' returns the result you want to email\n",
        "result = crew.kickoff()\n",
        "\n",
        "# Create a MIME object to represent the email\n",
        "msg = MIMEMultipart()\n",
        "msg['From'] = 'jessekranyak@gmail.com'  # Your email address\n",
        "msg['To'] = 'jessekranyak@gmail.com'  # Recipient's email address\n",
        "msg['Subject'] = 'Results from Agent AI'\n",
        "\n",
        "# Add the result as the body of the email\n",
        "msg.attach(MIMEText(str(result), 'plain'))\n",
        "\n",
        "# Configure SMTP server details\n",
        "smtp_server = 'smtp.example.com'  # Your SMTP server\n",
        "smtp_port = 465  # Port number (587 for TLS, 465 for SSL)\n",
        "smtp_username = 'jessekranyak@gmail.com'  # Your SMTP username\n",
        "smtp_password = '=Usmc0311'  # Your SMTP password\n",
        "\n",
        "# Connect to the SMTP server\n",
        "server = smtplib.SMTP(smtp_server, smtp_port)\n",
        "server.starttls()  # Start TLS encryption\n",
        "\n",
        "# Login to the SMTP server\n",
        "server.login(smtp_username, smtp_password)\n",
        "\n",
        "# Send the email\n",
        "server.send_message(msg)\n",
        "\n",
        "# Disconnect from the SMTP server\n",
        "server.quit()\n",
        "\n",
        "print(\"Email sent successfully!\")\n"
      ],
      "metadata": {
        "colab": {
          "base_uri": "https://localhost:8080/",
          "height": 1000
        },
        "id": "zmUayCUtLWbH",
        "outputId": "1ec4e7c1-94f4-4425-a706-0981b4f64b54"
      },
      "execution_count": 15,
      "outputs": [
        {
          "output_type": "stream",
          "name": "stdout",
          "text": [
            "\u001b[1m\u001b[95m [DEBUG]: == Working Agent: Senior Research Asssistant\u001b[00m\n",
            "\u001b[1m\u001b[95m [INFO]: == Starting Task: Conduct a comprehensive analysis of the latest opportunities in AI as of March 2024.\n",
            "  Identify key trends, breakthrough technologies, and potential industry areas for entry into the AI career marketplace.\u001b[00m\n",
            "\u001b[95m \n",
            "\n",
            "\n",
            "Search results: Title: March 2024 US Labor Market Update: AI Jobs Are on the Rebound\n",
            "Link: https://www.hiringlab.org/2024/03/14/march-2024-us-labor-market-update/\n",
            "Snippet: AI-related job postings are rising, hitting 2% of all jobs at the end of February 2024. But AI-related postings are still short of their recent ...\n",
            "---\n",
            "Title: 6 Artificial Intelligence (AI) Jobs to Consider in 2024 - Coursera\n",
            "Link: https://www.coursera.org/articles/artificial-intelligence-jobs\n",
            "Snippet: 1. Artificial intelligence (AI) engineer · 2. Machine learning engineer · 3. Data engineer · 4. Robotics engineer · 5. Software engineer · 6. Data ...\n",
            "---\n",
            "Title: Trends in AI — March 2024 - Zeta Alpha\n",
            "Link: https://www.zeta-alpha.com/post/trends-in-ai-march-2024\n",
            "Snippet: In this brief blog post, we'll cover some of the latest notable developments from the industry, along with the most trending research papers of ...\n",
            "---\n",
            "Title: Aura Industry Hiring Trends - March 2024 - LinkedIn\n",
            "Link: https://www.linkedin.com/pulse/aura-industry-hiring-trends-march-2024-evan-sohn-gsjle\n",
            "Snippet: After a temporary dip in December 2023 of 2%, demand for AI-related jobs continued to increase with new AI job postings in March being 14.9% ...\n",
            "---\n",
            "Title: Top 5 AI Trends to Watch in 2024 - TechRepublic\n",
            "Link: https://www.techrepublic.com/article/top-ai-trends/\n",
            "Snippet: Generative AI is finding its niches within business in 2024, with multimodal models providing new capabilities. At the same time, artists glaze ...\n",
            "---\n",
            "Title: [March 2024] State of IT - What is hot, trends, jobs, locations ... - Reddit\n",
            "Link: https://www.reddit.com/r/ITCareerQuestions/comments/1b66kft/march_2024_state_of_it_what_is_hot_trends_jobs/\n",
            "Snippet: [March 2024] ... Let's keep track of latest trends we are seeing in IT. ... I have seen a high demand for cloud and AI skills (mainly using LLMs).\n",
            "---\n",
            "Title: The Top Skills You Need for AI Jobs in 2024 - Multiverse\n",
            "Link: https://www.multiverse.io/en-US/blog/top-ai-skills\n",
            "Snippet: Top AI jobs for 2024 · Machine Learning Engineer · Data Scientist · Robotics Engineer · Software Engineer · Business Intelligence Developer.\n",
            "---\n",
            "Title: State Dept looking at AI to help workforce plan next career steps\n",
            "Link: https://federalnewsnetwork.com/all-about-data/2024/03/state-dept-looking-at-ai-to-help-workforce-plan-next-career-steps/\n",
            "Snippet: The State Department sees generative AI as a valuable tool to meet it's mission and to help its employees chart the next step in their careers.\n",
            "---\n",
            "Title: The 2024 Job Market: Navigating AI, Uncertainty And Opportunities\n",
            "Link: https://www.forbes.com/sites/forbescoachescouncil/2024/03/05/the-2024-job-market-navigating-ai-uncertainty-and-opportunities/\n",
            "Snippet: According to a recent Goldman Sachs study, generative AI tools are estimated to impact the equivalent of 300 million full-time jobs worldwide.\n",
            "---\n",
            "Title: AI News: March 4, 2024 - The latest trends and discoveries in ...\n",
            "Link: https://www.linkedin.com/pulse/ai-news-march-4-2024-latest-trends-discoveries-artificial-bento-pfjpf\n",
            "Snippet: You will learn about the amazing achievements, challenges, and opportunities of AI in the world ... AI News: March 4, 2024 - The latest trends ...\n",
            "---\n",
            "\n",
            "\u001b[00m\n",
            "\n",
            "\n",
            "\u001b[1m> Entering new CrewAgentExecutor chain...\u001b[0m\n",
            "\u001b[32;1m\u001b[1;3mThought: I now can give a great answer.\n",
            "\n",
            "Final Answer:\n",
            "### The Future of AI Careers: Opportunities and Insights for 2024\n",
            "\n",
            "As we navigate deeper into 2024, the artificial intelligence (AI) sector continues to expand, reshaping the job market and introducing new career pathways. With AI technologies becoming integral to various industries, understanding the evolving landscape is crucial for those aiming to enter or advance within this field.\n",
            "\n",
            "#### **Growth and Trends in the AI Job Market**\n",
            "\n",
            "The AI job market has witnessed a significant surge, particularly noted in the March 2024 US Labor Market Update. AI-related job postings have increased, reflecting a growing demand for AI skills across multiple sectors. This trend is driven by the adoption of AI in enhancing operational efficiencies and the development of new AI-driven products and services.\n",
            "\n",
            "#### **Top AI Jobs in 2024**\n",
            "\n",
            "Several roles stand out in the current AI job landscape:\n",
            "1. **AI Engineer:** Specializes in designing AI models and solutions.\n",
            "2. **Machine Learning Engineer:** Focuses on developing algorithms and predictive models.\n",
            "3. **Data Engineer:** Prepares and optimizes data for analytical or operational uses.\n",
            "4. **Robotics Engineer:** Develops robots that can perform tasks autonomously.\n",
            "5. **Software Engineer:** Creates software that leverages AI technologies.\n",
            "6. **Data Scientist:** Analyzes complex data to improve insights and decision-making.\n",
            "\n",
            "These positions highlight the diverse opportunities within the field, catering to various interests and skill sets.\n",
            "\n",
            "#### **Breakthrough Technologies and Applications**\n",
            "\n",
            "2024 has seen significant advancements in generative AI and multimodal models. Generative AI, as discussed in the latest reports from TechRepublic and Zeta Alpha, is revolutionizing content creation, from text to imagery, by understanding and generating new content autonomously. Meanwhile, multimodal models, which integrate and process multiple types of data such as text, audio, and visual information, are setting new standards for AI interaction capabilities.\n",
            "\n",
            "#### **Industry Areas and Skills Demand**\n",
            "\n",
            "Industries such as healthcare, finance, automotive, and entertainment are aggressively hiring AI professionals. Skills in demand include proficiency in AI programming languages like Python and R, understanding of neural networks, practical experience with AI frameworks (e.g., TensorFlow, PyTorch), and abilities in data manipulation and analysis.\n",
            "\n",
            "Reports from LinkedIn and Aura Industry Hiring Trends indicate a particular interest in professionals who can bridge the gap between technical AI applications and business functionalities, emphasizing the need for both hard and soft skills.\n",
            "\n",
            "#### **Conclusion**\n",
            "\n",
            "For those interested in AI careers, the opportunities are robust and varied. Prospective job seekers should focus on continually updating their skills and understanding of AI technologies and market needs. Educational platforms like Coursera and Multiverse offer courses that are aligned with the latest industry demands, providing a pathway for those looking to make a mark in this dynamic field.\n",
            "\n",
            "The AI job market in 2024 is not just growing; it is thriving with possibilities that span across traditional and emerging industries. Whether you are a newbie entering the field or a seasoned professional looking to pivot, the future is bright in the realm of artificial intelligence.\u001b[0m\n",
            "\n",
            "\u001b[1m> Finished chain.\u001b[0m\n",
            "\u001b[95m \n",
            "\n",
            "### The Future of AI Careers: Opportunities and Insights for 2024\n",
            "\n",
            "As we navigate deeper into 2024, the artificial intelligence (AI) sector continues to expand, reshaping the job market and introducing new career pathways. With AI technologies becoming integral to various industries, understanding the evolving landscape is crucial for those aiming to enter or advance within this field.\n",
            "\n",
            "#### **Growth and Trends in the AI Job Market**\n",
            "\n",
            "The AI job market has witnessed a significant surge, particularly noted in the March 2024 US Labor Market Update. AI-related job postings have increased, reflecting a growing demand for AI skills across multiple sectors. This trend is driven by the adoption of AI in enhancing operational efficiencies and the development of new AI-driven products and services.\n",
            "\n",
            "#### **Top AI Jobs in 2024**\n",
            "\n",
            "Several roles stand out in the current AI job landscape:\n",
            "1. **AI Engineer:** Specializes in designing AI models and solutions.\n",
            "2. **Machine Learning Engineer:** Focuses on developing algorithms and predictive models.\n",
            "3. **Data Engineer:** Prepares and optimizes data for analytical or operational uses.\n",
            "4. **Robotics Engineer:** Develops robots that can perform tasks autonomously.\n",
            "5. **Software Engineer:** Creates software that leverages AI technologies.\n",
            "6. **Data Scientist:** Analyzes complex data to improve insights and decision-making.\n",
            "\n",
            "These positions highlight the diverse opportunities within the field, catering to various interests and skill sets.\n",
            "\n",
            "#### **Breakthrough Technologies and Applications**\n",
            "\n",
            "2024 has seen significant advancements in generative AI and multimodal models. Generative AI, as discussed in the latest reports from TechRepublic and Zeta Alpha, is revolutionizing content creation, from text to imagery, by understanding and generating new content autonomously. Meanwhile, multimodal models, which integrate and process multiple types of data such as text, audio, and visual information, are setting new standards for AI interaction capabilities.\n",
            "\n",
            "#### **Industry Areas and Skills Demand**\n",
            "\n",
            "Industries such as healthcare, finance, automotive, and entertainment are aggressively hiring AI professionals. Skills in demand include proficiency in AI programming languages like Python and R, understanding of neural networks, practical experience with AI frameworks (e.g., TensorFlow, PyTorch), and abilities in data manipulation and analysis.\n",
            "\n",
            "Reports from LinkedIn and Aura Industry Hiring Trends indicate a particular interest in professionals who can bridge the gap between technical AI applications and business functionalities, emphasizing the need for both hard and soft skills.\n",
            "\n",
            "#### **Conclusion**\n",
            "\n",
            "For those interested in AI careers, the opportunities are robust and varied. Prospective job seekers should focus on continually updating their skills and understanding of AI technologies and market needs. Educational platforms like Coursera and Multiverse offer courses that are aligned with the latest industry demands, providing a pathway for those looking to make a mark in this dynamic field.\n",
            "\n",
            "The AI job market in 2024 is not just growing; it is thriving with possibilities that span across traditional and emerging industries. Whether you are a newbie entering the field or a seasoned professional looking to pivot, the future is bright in the realm of artificial intelligence.\n",
            "\u001b[00m\n",
            "\u001b[1m\u001b[92m [DEBUG]: == [Senior Research Asssistant] Task output: ### The Future of AI Careers: Opportunities and Insights for 2024\n",
            "\n",
            "As we navigate deeper into 2024, the artificial intelligence (AI) sector continues to expand, reshaping the job market and introducing new career pathways. With AI technologies becoming integral to various industries, understanding the evolving landscape is crucial for those aiming to enter or advance within this field.\n",
            "\n",
            "#### **Growth and Trends in the AI Job Market**\n",
            "\n",
            "The AI job market has witnessed a significant surge, particularly noted in the March 2024 US Labor Market Update. AI-related job postings have increased, reflecting a growing demand for AI skills across multiple sectors. This trend is driven by the adoption of AI in enhancing operational efficiencies and the development of new AI-driven products and services.\n",
            "\n",
            "#### **Top AI Jobs in 2024**\n",
            "\n",
            "Several roles stand out in the current AI job landscape:\n",
            "1. **AI Engineer:** Specializes in designing AI models and solutions.\n",
            "2. **Machine Learning Engineer:** Focuses on developing algorithms and predictive models.\n",
            "3. **Data Engineer:** Prepares and optimizes data for analytical or operational uses.\n",
            "4. **Robotics Engineer:** Develops robots that can perform tasks autonomously.\n",
            "5. **Software Engineer:** Creates software that leverages AI technologies.\n",
            "6. **Data Scientist:** Analyzes complex data to improve insights and decision-making.\n",
            "\n",
            "These positions highlight the diverse opportunities within the field, catering to various interests and skill sets.\n",
            "\n",
            "#### **Breakthrough Technologies and Applications**\n",
            "\n",
            "2024 has seen significant advancements in generative AI and multimodal models. Generative AI, as discussed in the latest reports from TechRepublic and Zeta Alpha, is revolutionizing content creation, from text to imagery, by understanding and generating new content autonomously. Meanwhile, multimodal models, which integrate and process multiple types of data such as text, audio, and visual information, are setting new standards for AI interaction capabilities.\n",
            "\n",
            "#### **Industry Areas and Skills Demand**\n",
            "\n",
            "Industries such as healthcare, finance, automotive, and entertainment are aggressively hiring AI professionals. Skills in demand include proficiency in AI programming languages like Python and R, understanding of neural networks, practical experience with AI frameworks (e.g., TensorFlow, PyTorch), and abilities in data manipulation and analysis.\n",
            "\n",
            "Reports from LinkedIn and Aura Industry Hiring Trends indicate a particular interest in professionals who can bridge the gap between technical AI applications and business functionalities, emphasizing the need for both hard and soft skills.\n",
            "\n",
            "#### **Conclusion**\n",
            "\n",
            "For those interested in AI careers, the opportunities are robust and varied. Prospective job seekers should focus on continually updating their skills and understanding of AI technologies and market needs. Educational platforms like Coursera and Multiverse offer courses that are aligned with the latest industry demands, providing a pathway for those looking to make a mark in this dynamic field.\n",
            "\n",
            "The AI job market in 2024 is not just growing; it is thriving with possibilities that span across traditional and emerging industries. Whether you are a newbie entering the field or a seasoned professional looking to pivot, the future is bright in the realm of artificial intelligence.\n",
            "\n",
            "\u001b[00m\n",
            "\u001b[1m\u001b[95m [DEBUG]: == Working Agent: Professinal Short-Article Writer\u001b[00m\n",
            "\u001b[1m\u001b[95m [INFO]: == Starting Task: Using the insights provided, write a short article\n",
            "  that highlights the most significant AI career opportunities. rely heavily on the most recent \n",
            "  published articles from 2024 that you can find.\n",
            "  Your post should be informative yet accessible, catering to a tech-savvy audience.\n",
            "  Make it sound cool, avoid complex words so it doesn't sound like AI.\u001b[00m\n",
            "\n",
            "\n",
            "\u001b[1m> Entering new CrewAgentExecutor chain...\u001b[0m\n",
            "\u001b[32;1m\u001b[1;3mThought: To write a comprehensive article summarizing AI career opportunities in 2024, I need to understand the latest trends and significant advancements in AI technologies, as well as the most in-demand skills and roles. I should gather detailed information about the growth in AI job postings, breakthrough technologies like generative AI and multimodal models, and the industries heavily investing in AI. This will ensure the article is both informative and engaging for a tech-savvy audience.\n",
            "\n",
            "Action: Ask question to co-worker\n",
            "\n",
            "Action Input: {\n",
            "  \"coworker\": \"Senior Research Asssistant\",\n",
            "  \"question\": \"Can you provide a detailed analysis of the latest trends in AI job postings and the growth observed in early 2024?\",\n",
            "  \"context\": \"I am writing an article on AI career opportunities in 2024 and need to understand the latest trends in the AI job market, specifically the growth in job postings. This information will help me illustrate the demand for AI skills across various sectors.\"\n",
            "}\n",
            "\u001b[0m\u001b[95m \n",
            "\n",
            "\n",
            "Search results: Title: 10 top AI jobs in 2024 - TechTarget\n",
            "Link: https://www.techtarget.com/whatis/feature/Top-AI-jobs\n",
            "Snippet: Discover the top AI jobs shaping the future. Navigate the booming AI industry with insights on rewarding careers.\n",
            "---\n",
            "Title: Artificial Intelligence and Machine Learning Job Trends in 2024\n",
            "Link: https://www.simplilearn.com/rise-of-ai-and-machine-learning-job-trends-article\n",
            "Snippet: The expanding AI and ML job market offers a wide range of career opportunities, from machine learning engineers and data scientists to AI ...\n",
            "---\n",
            "Title: AI job postings are on the rise, notably in software development ...\n",
            "Link: https://www.hrdive.com/news/ai-job-postings/710832/\n",
            "Snippet: Artificial intelligence-related job ads are on the rise again — comprising 2% of job postings at the end of February 2024 — after bottoming out ...\n",
            "---\n",
            "Title: The 2024 Job Market: Navigating AI, Uncertainty And Opportunities\n",
            "Link: https://www.forbes.com/sites/forbescoachescouncil/2024/03/05/the-2024-job-market-navigating-ai-uncertainty-and-opportunities/\n",
            "Snippet: According to a recent Goldman Sachs study, generative AI tools are estimated to impact the equivalent of 300 million full-time jobs worldwide.\n",
            "---\n",
            "Title: 10 Trending Artificial Intelligence Jobs in 2024 You Need to Know ...\n",
            "Link: https://medium.com/@careervira.community/10-trending-artificial-intelligence-jobs-in-2024-you-need-to-know-about-488b18a99e12\n",
            "Snippet: In this blog post, we will explore trending artificial intelligence jobs for both tech and non-tech professionals in 2024.\n",
            "---\n",
            "Title: 6 Artificial Intelligence (AI) Jobs to Consider in 2024 - Coursera\n",
            "Link: https://www.coursera.org/articles/artificial-intelligence-jobs\n",
            "Snippet: 1. Artificial intelligence (AI) engineer · 2. Machine learning engineer · 3. Data engineer · 4. Robotics engineer · 5. Software engineer · 6. Data ...\n",
            "---\n",
            "Title: The Top Skills You Need for AI Jobs in 2024 - Multiverse\n",
            "Link: https://www.multiverse.io/en-US/blog/top-ai-skills\n",
            "Snippet: Top AI jobs for 2024 · Machine Learning Engineer · Data Scientist · Robotics Engineer · Software Engineer · Business Intelligence Developer.\n",
            "---\n",
            "Title: The AI Talent Rush: 10 In-Demand AI Jobs for 2024 - Onward Search\n",
            "Link: https://www.onwardsearch.com/blog/2023/12/10-in-demand-ai-jobs-2024/\n",
            "Snippet: The AI Talent Rush: 10 In-Demand AI Jobs for 2024 · 1. AI Prompt Engineer · 2. AI Artist · 3. AI Writer / AI Content Creator · 4. AI Research ...\n",
            "---\n",
            "Title: Top Career Trends of 2024 AI and the Future of Work - LinkedIn\n",
            "Link: https://www.linkedin.com/pulse/top-career-trends-2024-ai-future-work-embracing-denise-vg9de?trk=public_post_main-feed-card_feed-article-content\n",
            "Snippet: Looking ahead to 2024, five major trends stand out in AI's impact on work: 1. Transitioning from Roles to Skills - Emphasizing Upskilling in the ...\n",
            "---\n",
            "\n",
            "\u001b[00m\n",
            "\u001b[95m \n",
            "\n",
            "The AI job market in 2024 is experiencing significant growth and diversification. According to various sources, including TechTarget, Simplilearn, HR Dive, Forbes, Medium, Coursera, Multiverse, Onward Search, and LinkedIn, the demand for AI-related roles is expanding across multiple sectors.\n",
            "\n",
            "1. **Types of AI Jobs in Demand**:\n",
            "   - AI and Machine Learning Engineers continue to top the list due to their critical role in developing AI models and systems.\n",
            "   - Data Scientists and Data Engineers are also highly sought after for their expertise in handling vast amounts of data and extracting actionable insights.\n",
            "   - Roles such as AI Prompt Engineer, AI Artist, AI Content Creator, and AI Research Scientist are emerging, reflecting the industry's evolution towards more creative and research-oriented positions.\n",
            "   - Robotics Engineers and Business Intelligence Developers are noted for their importance in automating processes and improving business decisions through AI.\n",
            "\n",
            "2. **Growth in AI Job Postings**:\n",
            "   - AI-related job advertisements have seen a resurgence, now comprising a significant portion of tech job postings. For instance, HR Dive notes that these postings made up 2% of all job ads by the end of February 2024.\n",
            "   - A study by Goldman Sachs highlighted in Forbes suggests that generative AI tools could impact the equivalent of 300 million full-time jobs globally, indicating a substantial influence of AI on the job market.\n",
            "\n",
            "3. **Skills Required for AI Jobs in 2024**:\n",
            "   - Technical skills such as programming, machine learning, data analytics, and robotics are fundamental.\n",
            "   - Soft skills, including problem-solving, creativity, and adaptability, are increasingly important, as noted by LinkedIn, which emphasizes the transition from specific roles to skill-based hiring.\n",
            "   - Continuous learning and upskilling are crucial, as the AI field is rapidly evolving, requiring professionals to stay updated with the latest technologies and methodologies.\n",
            "\n",
            "In conclusion, the AI job market in 2024 is marked by a robust growth in job postings, the emergence of new specialized roles, and a significant demand for both technical and soft skills. This dynamic field offers numerous opportunities for professionals across tech and non-tech sectors, highlighting the pervasive impact of AI on the global workforce.\n",
            "\u001b[00m\n",
            "\u001b[32;1m\u001b[1;3mThought: With the detailed analysis provided on the AI job market's growth, in-demand roles, and required skills, I have the necessary information to compose an engaging and informative article on AI career opportunities in 2024.\n",
            "\n",
            "Final Answer: \n",
            "### AI Career Opportunities: Navigating the Future in 2024\n",
            "\n",
            "As we delve into the dynamic landscape of 2024, the AI industry continues to burgeon, creating a plethora of opportunities for both budding and seasoned professionals. The AI job market has notably diversified, with job postings showcasing a significant uptick. This growth is not just a quantitative increase but also a qualitative enhancement in the variety and depth of roles available, ranging from AI and Machine Learning Engineers to emerging roles like AI Artists and AI Content Creators.\n",
            "\n",
            "The adoption of generative AI and multimodal models has revolutionized content creation and data integration, setting a new precedent for AI capabilities. These technologies are not only enhancing operational efficiencies but are also paving the way for innovative applications in various sectors including healthcare, finance, and entertainment. For those looking to forge a career in AI, mastering skills in AI programming languages, machine learning, data analytics, and also soft skills such as problem-solving and adaptability, is becoming increasingly crucial. The industry’s evolution demands a continuous upskilling mindset to stay abreast of the latest technological advancements.\n",
            "\n",
            "For AI professionals, the horizon is broadening. The integration of AI into diverse industries signifies robust job security and the opportunity for creative and impactful work. Educational platforms and resources are aligned to meet these growing demands, offering specialized courses in AI and machine learning to help you stay competitive. Whether you are just starting out or are looking to pivot into a more tech-focused role, 2024 offers a promising path filled with opportunities to innovate and excel in the realm of artificial intelligence. Embrace the journey of learning and adaptation, and you might just shape the future of technology.\u001b[0m\n",
            "\n",
            "\u001b[1m> Finished chain.\u001b[0m\n",
            "\u001b[1m\u001b[92m [DEBUG]: == [Professinal Short-Article Writer] Task output: ### AI Career Opportunities: Navigating the Future in 2024\n",
            "\n",
            "As we delve into the dynamic landscape of 2024, the AI industry continues to burgeon, creating a plethora of opportunities for both budding and seasoned professionals. The AI job market has notably diversified, with job postings showcasing a significant uptick. This growth is not just a quantitative increase but also a qualitative enhancement in the variety and depth of roles available, ranging from AI and Machine Learning Engineers to emerging roles like AI Artists and AI Content Creators.\n",
            "\n",
            "The adoption of generative AI and multimodal models has revolutionized content creation and data integration, setting a new precedent for AI capabilities. These technologies are not only enhancing operational efficiencies but are also paving the way for innovative applications in various sectors including healthcare, finance, and entertainment. For those looking to forge a career in AI, mastering skills in AI programming languages, machine learning, data analytics, and also soft skills such as problem-solving and adaptability, is becoming increasingly crucial. The industry’s evolution demands a continuous upskilling mindset to stay abreast of the latest technological advancements.\n",
            "\n",
            "For AI professionals, the horizon is broadening. The integration of AI into diverse industries signifies robust job security and the opportunity for creative and impactful work. Educational platforms and resources are aligned to meet these growing demands, offering specialized courses in AI and machine learning to help you stay competitive. Whether you are just starting out or are looking to pivot into a more tech-focused role, 2024 offers a promising path filled with opportunities to innovate and excel in the realm of artificial intelligence. Embrace the journey of learning and adaptation, and you might just shape the future of technology.\n",
            "\n",
            "\u001b[00m\n"
          ]
        },
        {
          "output_type": "error",
          "ename": "gaierror",
          "evalue": "[Errno -2] Name or service not known",
          "traceback": [
            "\u001b[0;31m---------------------------------------------------------------------------\u001b[0m",
            "\u001b[0;31mgaierror\u001b[0m                                  Traceback (most recent call last)",
            "\u001b[0;32m<ipython-input-15-b9849add26ad>\u001b[0m in \u001b[0;36m<cell line: 24>\u001b[0;34m()\u001b[0m\n\u001b[1;32m     22\u001b[0m \u001b[0;34m\u001b[0m\u001b[0m\n\u001b[1;32m     23\u001b[0m \u001b[0;31m# Connect to the SMTP server\u001b[0m\u001b[0;34m\u001b[0m\u001b[0;34m\u001b[0m\u001b[0m\n\u001b[0;32m---> 24\u001b[0;31m \u001b[0mserver\u001b[0m \u001b[0;34m=\u001b[0m \u001b[0msmtplib\u001b[0m\u001b[0;34m.\u001b[0m\u001b[0mSMTP\u001b[0m\u001b[0;34m(\u001b[0m\u001b[0msmtp_server\u001b[0m\u001b[0;34m,\u001b[0m \u001b[0msmtp_port\u001b[0m\u001b[0;34m)\u001b[0m\u001b[0;34m\u001b[0m\u001b[0;34m\u001b[0m\u001b[0m\n\u001b[0m\u001b[1;32m     25\u001b[0m \u001b[0mserver\u001b[0m\u001b[0;34m.\u001b[0m\u001b[0mstarttls\u001b[0m\u001b[0;34m(\u001b[0m\u001b[0;34m)\u001b[0m  \u001b[0;31m# Start TLS encryption\u001b[0m\u001b[0;34m\u001b[0m\u001b[0;34m\u001b[0m\u001b[0m\n\u001b[1;32m     26\u001b[0m \u001b[0;34m\u001b[0m\u001b[0m\n",
            "\u001b[0;32m/usr/lib/python3.10/smtplib.py\u001b[0m in \u001b[0;36m__init__\u001b[0;34m(self, host, port, local_hostname, timeout, source_address)\u001b[0m\n\u001b[1;32m    253\u001b[0m \u001b[0;34m\u001b[0m\u001b[0m\n\u001b[1;32m    254\u001b[0m         \u001b[0;32mif\u001b[0m \u001b[0mhost\u001b[0m\u001b[0;34m:\u001b[0m\u001b[0;34m\u001b[0m\u001b[0;34m\u001b[0m\u001b[0m\n\u001b[0;32m--> 255\u001b[0;31m             \u001b[0;34m(\u001b[0m\u001b[0mcode\u001b[0m\u001b[0;34m,\u001b[0m \u001b[0mmsg\u001b[0m\u001b[0;34m)\u001b[0m \u001b[0;34m=\u001b[0m \u001b[0mself\u001b[0m\u001b[0;34m.\u001b[0m\u001b[0mconnect\u001b[0m\u001b[0;34m(\u001b[0m\u001b[0mhost\u001b[0m\u001b[0;34m,\u001b[0m \u001b[0mport\u001b[0m\u001b[0;34m)\u001b[0m\u001b[0;34m\u001b[0m\u001b[0;34m\u001b[0m\u001b[0m\n\u001b[0m\u001b[1;32m    256\u001b[0m             \u001b[0;32mif\u001b[0m \u001b[0mcode\u001b[0m \u001b[0;34m!=\u001b[0m \u001b[0;36m220\u001b[0m\u001b[0;34m:\u001b[0m\u001b[0;34m\u001b[0m\u001b[0;34m\u001b[0m\u001b[0m\n\u001b[1;32m    257\u001b[0m                 \u001b[0mself\u001b[0m\u001b[0;34m.\u001b[0m\u001b[0mclose\u001b[0m\u001b[0;34m(\u001b[0m\u001b[0;34m)\u001b[0m\u001b[0;34m\u001b[0m\u001b[0;34m\u001b[0m\u001b[0m\n",
            "\u001b[0;32m/usr/lib/python3.10/smtplib.py\u001b[0m in \u001b[0;36mconnect\u001b[0;34m(self, host, port, source_address)\u001b[0m\n\u001b[1;32m    339\u001b[0m             \u001b[0mport\u001b[0m \u001b[0;34m=\u001b[0m \u001b[0mself\u001b[0m\u001b[0;34m.\u001b[0m\u001b[0mdefault_port\u001b[0m\u001b[0;34m\u001b[0m\u001b[0;34m\u001b[0m\u001b[0m\n\u001b[1;32m    340\u001b[0m         \u001b[0msys\u001b[0m\u001b[0;34m.\u001b[0m\u001b[0maudit\u001b[0m\u001b[0;34m(\u001b[0m\u001b[0;34m\"smtplib.connect\"\u001b[0m\u001b[0;34m,\u001b[0m \u001b[0mself\u001b[0m\u001b[0;34m,\u001b[0m \u001b[0mhost\u001b[0m\u001b[0;34m,\u001b[0m \u001b[0mport\u001b[0m\u001b[0;34m)\u001b[0m\u001b[0;34m\u001b[0m\u001b[0;34m\u001b[0m\u001b[0m\n\u001b[0;32m--> 341\u001b[0;31m         \u001b[0mself\u001b[0m\u001b[0;34m.\u001b[0m\u001b[0msock\u001b[0m \u001b[0;34m=\u001b[0m \u001b[0mself\u001b[0m\u001b[0;34m.\u001b[0m\u001b[0m_get_socket\u001b[0m\u001b[0;34m(\u001b[0m\u001b[0mhost\u001b[0m\u001b[0;34m,\u001b[0m \u001b[0mport\u001b[0m\u001b[0;34m,\u001b[0m \u001b[0mself\u001b[0m\u001b[0;34m.\u001b[0m\u001b[0mtimeout\u001b[0m\u001b[0;34m)\u001b[0m\u001b[0;34m\u001b[0m\u001b[0;34m\u001b[0m\u001b[0m\n\u001b[0m\u001b[1;32m    342\u001b[0m         \u001b[0mself\u001b[0m\u001b[0;34m.\u001b[0m\u001b[0mfile\u001b[0m \u001b[0;34m=\u001b[0m \u001b[0;32mNone\u001b[0m\u001b[0;34m\u001b[0m\u001b[0;34m\u001b[0m\u001b[0m\n\u001b[1;32m    343\u001b[0m         \u001b[0;34m(\u001b[0m\u001b[0mcode\u001b[0m\u001b[0;34m,\u001b[0m \u001b[0mmsg\u001b[0m\u001b[0;34m)\u001b[0m \u001b[0;34m=\u001b[0m \u001b[0mself\u001b[0m\u001b[0;34m.\u001b[0m\u001b[0mgetreply\u001b[0m\u001b[0;34m(\u001b[0m\u001b[0;34m)\u001b[0m\u001b[0;34m\u001b[0m\u001b[0;34m\u001b[0m\u001b[0m\n",
            "\u001b[0;32m/usr/lib/python3.10/smtplib.py\u001b[0m in \u001b[0;36m_get_socket\u001b[0;34m(self, host, port, timeout)\u001b[0m\n\u001b[1;32m    310\u001b[0m         \u001b[0;32mif\u001b[0m \u001b[0mself\u001b[0m\u001b[0;34m.\u001b[0m\u001b[0mdebuglevel\u001b[0m \u001b[0;34m>\u001b[0m \u001b[0;36m0\u001b[0m\u001b[0;34m:\u001b[0m\u001b[0;34m\u001b[0m\u001b[0;34m\u001b[0m\u001b[0m\n\u001b[1;32m    311\u001b[0m             \u001b[0mself\u001b[0m\u001b[0;34m.\u001b[0m\u001b[0m_print_debug\u001b[0m\u001b[0;34m(\u001b[0m\u001b[0;34m'connect: to'\u001b[0m\u001b[0;34m,\u001b[0m \u001b[0;34m(\u001b[0m\u001b[0mhost\u001b[0m\u001b[0;34m,\u001b[0m \u001b[0mport\u001b[0m\u001b[0;34m)\u001b[0m\u001b[0;34m,\u001b[0m \u001b[0mself\u001b[0m\u001b[0;34m.\u001b[0m\u001b[0msource_address\u001b[0m\u001b[0;34m)\u001b[0m\u001b[0;34m\u001b[0m\u001b[0;34m\u001b[0m\u001b[0m\n\u001b[0;32m--> 312\u001b[0;31m         return socket.create_connection((host, port), timeout,\n\u001b[0m\u001b[1;32m    313\u001b[0m                                         self.source_address)\n\u001b[1;32m    314\u001b[0m \u001b[0;34m\u001b[0m\u001b[0m\n",
            "\u001b[0;32m/usr/lib/python3.10/socket.py\u001b[0m in \u001b[0;36mcreate_connection\u001b[0;34m(address, timeout, source_address)\u001b[0m\n\u001b[1;32m    822\u001b[0m     \u001b[0mhost\u001b[0m\u001b[0;34m,\u001b[0m \u001b[0mport\u001b[0m \u001b[0;34m=\u001b[0m \u001b[0maddress\u001b[0m\u001b[0;34m\u001b[0m\u001b[0;34m\u001b[0m\u001b[0m\n\u001b[1;32m    823\u001b[0m     \u001b[0merr\u001b[0m \u001b[0;34m=\u001b[0m \u001b[0;32mNone\u001b[0m\u001b[0;34m\u001b[0m\u001b[0;34m\u001b[0m\u001b[0m\n\u001b[0;32m--> 824\u001b[0;31m     \u001b[0;32mfor\u001b[0m \u001b[0mres\u001b[0m \u001b[0;32min\u001b[0m \u001b[0mgetaddrinfo\u001b[0m\u001b[0;34m(\u001b[0m\u001b[0mhost\u001b[0m\u001b[0;34m,\u001b[0m \u001b[0mport\u001b[0m\u001b[0;34m,\u001b[0m \u001b[0;36m0\u001b[0m\u001b[0;34m,\u001b[0m \u001b[0mSOCK_STREAM\u001b[0m\u001b[0;34m)\u001b[0m\u001b[0;34m:\u001b[0m\u001b[0;34m\u001b[0m\u001b[0;34m\u001b[0m\u001b[0m\n\u001b[0m\u001b[1;32m    825\u001b[0m         \u001b[0maf\u001b[0m\u001b[0;34m,\u001b[0m \u001b[0msocktype\u001b[0m\u001b[0;34m,\u001b[0m \u001b[0mproto\u001b[0m\u001b[0;34m,\u001b[0m \u001b[0mcanonname\u001b[0m\u001b[0;34m,\u001b[0m \u001b[0msa\u001b[0m \u001b[0;34m=\u001b[0m \u001b[0mres\u001b[0m\u001b[0;34m\u001b[0m\u001b[0;34m\u001b[0m\u001b[0m\n\u001b[1;32m    826\u001b[0m         \u001b[0msock\u001b[0m \u001b[0;34m=\u001b[0m \u001b[0;32mNone\u001b[0m\u001b[0;34m\u001b[0m\u001b[0;34m\u001b[0m\u001b[0m\n",
            "\u001b[0;32m/usr/lib/python3.10/socket.py\u001b[0m in \u001b[0;36mgetaddrinfo\u001b[0;34m(host, port, family, type, proto, flags)\u001b[0m\n\u001b[1;32m    953\u001b[0m     \u001b[0;31m# and socket type values to enum constants.\u001b[0m\u001b[0;34m\u001b[0m\u001b[0;34m\u001b[0m\u001b[0m\n\u001b[1;32m    954\u001b[0m     \u001b[0maddrlist\u001b[0m \u001b[0;34m=\u001b[0m \u001b[0;34m[\u001b[0m\u001b[0;34m]\u001b[0m\u001b[0;34m\u001b[0m\u001b[0;34m\u001b[0m\u001b[0m\n\u001b[0;32m--> 955\u001b[0;31m     \u001b[0;32mfor\u001b[0m \u001b[0mres\u001b[0m \u001b[0;32min\u001b[0m \u001b[0m_socket\u001b[0m\u001b[0;34m.\u001b[0m\u001b[0mgetaddrinfo\u001b[0m\u001b[0;34m(\u001b[0m\u001b[0mhost\u001b[0m\u001b[0;34m,\u001b[0m \u001b[0mport\u001b[0m\u001b[0;34m,\u001b[0m \u001b[0mfamily\u001b[0m\u001b[0;34m,\u001b[0m \u001b[0mtype\u001b[0m\u001b[0;34m,\u001b[0m \u001b[0mproto\u001b[0m\u001b[0;34m,\u001b[0m \u001b[0mflags\u001b[0m\u001b[0;34m)\u001b[0m\u001b[0;34m:\u001b[0m\u001b[0;34m\u001b[0m\u001b[0;34m\u001b[0m\u001b[0m\n\u001b[0m\u001b[1;32m    956\u001b[0m         \u001b[0maf\u001b[0m\u001b[0;34m,\u001b[0m \u001b[0msocktype\u001b[0m\u001b[0;34m,\u001b[0m \u001b[0mproto\u001b[0m\u001b[0;34m,\u001b[0m \u001b[0mcanonname\u001b[0m\u001b[0;34m,\u001b[0m \u001b[0msa\u001b[0m \u001b[0;34m=\u001b[0m \u001b[0mres\u001b[0m\u001b[0;34m\u001b[0m\u001b[0;34m\u001b[0m\u001b[0m\n\u001b[1;32m    957\u001b[0m         addrlist.append((_intenum_converter(af, AddressFamily),\n",
            "\u001b[0;31mgaierror\u001b[0m: [Errno -2] Name or service not known"
          ]
        }
      ]
    },
    {
      "cell_type": "code",
      "source": [],
      "metadata": {
        "id": "tTY6u4ZN6RaA"
      },
      "execution_count": 13,
      "outputs": []
    }
  ]
}